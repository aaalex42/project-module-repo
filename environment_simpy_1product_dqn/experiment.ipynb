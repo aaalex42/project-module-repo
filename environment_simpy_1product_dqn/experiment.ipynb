{
 "cells": [
  {
   "cell_type": "code",
   "execution_count": 4,
   "metadata": {},
   "outputs": [
    {
     "name": "stdout",
     "output_type": "stream",
     "text": [
      "Expected OEE = 1.0275492824433314\n",
      "Using GPU\n"
     ]
    }
   ],
   "source": [
    "#from gym_environment import InventoryManagementEnv\n",
    "from psim_gym import InventoryManagementEnv\n",
    "from dqn_agent import DQNAgent\n",
    "\n",
    "def main():\n",
    "    # AR changed to empty parameter list, set by default\n",
    "    env = InventoryManagementEnv()\n",
    "    #print(env.dl[0].demands)    \n",
    "    agent = DQNAgent(env, device='cuda', num_episodes=250, BATCH_SIZE=10000, GAMMA=0.99, EPS_START=0.9, EPS_END=0.05, EPS_DECAY=1000, TAU=0.005, LR=1e-5)\n",
    "    total_rewards, inventory_levels, _ = agent.train() #if num_episodes increases, simulation time has to be increased as well in psim_gym.py\n",
    "    agent.plot_rewards(total_rewards, inventory_levels)\n",
    "\n",
    "    env.post_sim_analysis()\n",
    "\n",
    "main()"
   ]
  }
 ],
 "metadata": {
  "kernelspec": {
   "display_name": "RL",
   "language": "python",
   "name": "python3"
  },
  "language_info": {
   "codemirror_mode": {
    "name": "ipython",
    "version": 3
   },
   "file_extension": ".py",
   "mimetype": "text/x-python",
   "name": "python",
   "nbconvert_exporter": "python",
   "pygments_lexer": "ipython3",
   "version": "3.10.13"
  }
 },
 "nbformat": 4,
 "nbformat_minor": 2
}
