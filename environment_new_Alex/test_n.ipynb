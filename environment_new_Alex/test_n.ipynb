{
 "cells": [
  {
   "cell_type": "code",
   "execution_count": 9,
   "metadata": {},
   "outputs": [
    {
     "name": "stdout",
     "output_type": "stream",
     "text": [
      "The autoreload extension is already loaded. To reload it, use:\n",
      "  %reload_ext autoreload\n"
     ]
    }
   ],
   "source": [
    "%load_ext autoreload\n",
    "%autoreload 2"
   ]
  },
  {
   "cell_type": "code",
   "execution_count": 2,
   "metadata": {},
   "outputs": [],
   "source": [
    "from classes_n import *\n",
    "from main import *\n",
    "\n",
    "\n",
    "demand_p1 = Demand(P1)\n",
    "\n",
    "combined_p1 = Inventory(demand_p1)\n"
   ]
  },
  {
   "cell_type": "code",
   "execution_count": 22,
   "metadata": {},
   "outputs": [
    {
     "name": "stdout",
     "output_type": "stream",
     "text": [
      "2\n"
     ]
    },
    {
     "data": {
      "text/plain": [
       "[382714]"
      ]
     },
     "execution_count": 22,
     "metadata": {},
     "output_type": "execute_result"
    }
   ],
   "source": [
    "print(INVENTORY_MODE)\n",
    "\n",
    "combined_p1.inventory_level\n"
   ]
  },
  {
   "cell_type": "code",
   "execution_count": 23,
   "metadata": {},
   "outputs": [
    {
     "data": {
      "text/plain": [
       "[382714, 382764]"
      ]
     },
     "execution_count": 23,
     "metadata": {},
     "output_type": "execute_result"
    }
   ],
   "source": [
    "combined_p1.put(100)\n",
    "combined_p1.get(50)\n",
    "combined_p1.inventory_level"
   ]
  },
  {
   "cell_type": "markdown",
   "metadata": {},
   "source": [
    "### Testing the warehouse"
   ]
  },
  {
   "cell_type": "code",
   "execution_count": 72,
   "metadata": {},
   "outputs": [],
   "source": [
    "demand_p1, demand_p2 = Demand(P1), Demand(P2)\n",
    "\n",
    "combined_p1, combined_p2 = Inventory(demand_p1), Inventory(demand_p2)\n",
    "\n",
    "warehouse = Warehouse(combined_p1, combined_p2)"
   ]
  },
  {
   "cell_type": "code",
   "execution_count": 73,
   "metadata": {},
   "outputs": [],
   "source": [
    "#order = {\"product\":\"p1\", \"amount\": 40_000_000}\n",
    "order = [0, 10_000]"
   ]
  },
  {
   "cell_type": "code",
   "execution_count": 74,
   "metadata": {},
   "outputs": [
    {
     "data": {
      "text/plain": [
       "18090447"
      ]
     },
     "execution_count": 74,
     "metadata": {},
     "output_type": "execute_result"
    }
   ],
   "source": [
    "warehouse.current_warehouse_level"
   ]
  },
  {
   "cell_type": "code",
   "execution_count": 76,
   "metadata": {},
   "outputs": [
    {
     "data": {
      "text/plain": [
       "True"
      ]
     },
     "execution_count": 76,
     "metadata": {},
     "output_type": "execute_result"
    }
   ],
   "source": [
    "warehouse.is_possible_to_store(order)"
   ]
  },
  {
   "cell_type": "markdown",
   "metadata": {},
   "source": [
    "### Testing the Inventory class inside the Warehouse"
   ]
  },
  {
   "cell_type": "code",
   "execution_count": 77,
   "metadata": {},
   "outputs": [
    {
     "data": {
      "text/plain": [
       "[17686910]"
      ]
     },
     "execution_count": 77,
     "metadata": {},
     "output_type": "execute_result"
    }
   ],
   "source": [
    "warehouse.products[1].inventory_level"
   ]
  },
  {
   "cell_type": "markdown",
   "metadata": {},
   "source": [
    "### Testing Demand class inside the Warehouse"
   ]
  },
  {
   "cell_type": "code",
   "execution_count": 78,
   "metadata": {},
   "outputs": [
    {
     "data": {
      "text/plain": [
       "array([      0., 1406581.,       0.,  719913.,  677924.,  603457.,\n",
       "             0.,       0.,       0.,       0.,   89281.,       0.,\n",
       "             0.,       0., 1086347.,       0.,       0., 3180785.,\n",
       "        445071.,       0.,  765988.,       0.,  419111.,       0.,\n",
       "             0.,  455808.,       0.,  124390., 1037908.,       0.,\n",
       "       3215070.,       0.,       0.,       0., 1135721.,       0.,\n",
       "        155899., 1323128.,       0.,  539083.,       0., 1941836.,\n",
       "        369538.,       0.,  686057., 1128795.,       0.,       0.,\n",
       "        667263.,       0.,  509582.,  674280.,       0.,       0.,\n",
       "        279732.,       0.,  702633.,       0.,       0., 1280022.,\n",
       "        856716.,       0.,       0.,  485028.,  835735.,  446885.,\n",
       "             0.,       0.,       0.,  940311.,  333373.,       0.,\n",
       "        899582.,       0.,  468743.,  442283.,  751439.,  601159.,\n",
       "       1889877.,       0., 1198029.,  641432.,       0.,       0.,\n",
       "       2163658.,       0.,       0.,       0.,  993915.,  454119.,\n",
       "             0.,       0.,  469077.,       0.,  765368.,       0.,\n",
       "             0., 1839987.,       0.,  803759.,       0., 1418450.,\n",
       "        496788.,       0.,  457094., 2424251.,       0.,       0.,\n",
       "             0.,  672025.,       0.,       0., 1160820.,  351474.,\n",
       "       1556340.,  786329.,       0., 1266060., 3663703.,  906923.,\n",
       "             0.,       0.,  339061., 1646978.,       0.,  474647.,\n",
       "        245263.,       0.,       0.,       0.,  698747.,       0.,\n",
       "       1932459.,  225784.,       0.,  158327.,       0.,  340315.,\n",
       "             0.,       0.,       0.,       0.,  589017.,       0.,\n",
       "        828699.,       0.,       0.,  753555.,       0.,  394213.,\n",
       "       1369498.,       0.,  329876.,  271187.,  699335.,       0.,\n",
       "       1610244.,       0., 2529223., 1826080.,       0.,  525750.,\n",
       "       2682185.,  713756., 1196299.,       0.,       0., 1391222.,\n",
       "        526764.,       0.,       0.,       0.,       0.,       0.,\n",
       "        210402.,       0.,       0.,  275289.,  559867.,  418543.,\n",
       "             0.,       0.,  406577., 1512880.,       0., 1247937.,\n",
       "             0.,  403729.,       0.,  937142., 1359837.,       0.,\n",
       "        682095.,       0.,  631563.,       0.,       0.,  657076.,\n",
       "       1623661.,  618245.,       0.,       0.,       0.,  492661.,\n",
       "        307391.,       0., 1225452.,       0.,       0.,  447030.,\n",
       "             0.,       0.,  452794., 2556786.,       0.,  902379.,\n",
       "       1510418.,  696245.,       0.,       0.,  528726.,       0.,\n",
       "        375034.,       0.,  577395., 1955015.,       0.,       0.,\n",
       "        736036.,       0.,       0.,       0.,       0., 1232664.,\n",
       "       3125121.,       0.,  550327.,       0., 1153056.,       0.,\n",
       "             0.,       0., 1801141.,  549711.,       0., 1131749.,\n",
       "             0.,       0.,  345279.,  966443.,       0.,       0.,\n",
       "             0., 1462653., 4444934.,  749942.,       0.,  238882.,\n",
       "             0.,  414437.,       0.,  551552.,       0., 1577584.,\n",
       "             0.,       0.,       0.,  322833., 1438317.,  231321.,\n",
       "       1090818.,       0.,       0.,  254631.,       0., 1065408.,\n",
       "             0.,       0.,  661762.,  659206.,       0.,  819987.,\n",
       "             0., 1993968.,       0., 1072610., 1365890.,       0.,\n",
       "             0.,       0.,       0.,  355531.,  267746.,       0.,\n",
       "             0.,       0., 1768023.,       0.,       0.,  570211.,\n",
       "       1154632.,       0.,       0., 1331027.,       0.,       0.,\n",
       "             0.,  487975.,       0.,       0.,  888618.,       0.,\n",
       "        818906.,       0.,  303111.,       0., 1070188.,  310688.,\n",
       "             0.,       0., 1534062.,       0.,  616472.,       0.,\n",
       "       1075422., 1470952.,       0.,       0.,  477409., 1115307.,\n",
       "             0.,  663211.,       0.,       0.,       0.,       0.,\n",
       "             0.,  633720.,  827091.,       0., 1736900.,       0.,\n",
       "             0.,  933339.,       0.,  353581.,  399576., 1098341.,\n",
       "             0.,  271734., 1978417.,       0.,       0.,       0.,\n",
       "       1940708.,  334436.,       0.,  862094.,       0.,  573443.,\n",
       "        854569.,       0.,  919097.,       0.,       0.,       0.,\n",
       "       1246302.,       0.,       0.,       0.,  570947., 1008269.,\n",
       "       1837097.,       0.,  680895., 1006923.,       0.,       0.,\n",
       "             0.,       0.,  886605., 1288437.,       0., 1002179.,\n",
       "             0., 1853445., 1363983.,       0.,       0.,  553709.,\n",
       "       1443982.,       0., 1333137.,       0.,  411504.,       0.,\n",
       "       2410513.,       0., 1105855.,       0., 1398398.,  615887.,\n",
       "             0.,  338742.,       0.,       0.,       0.,       0.,\n",
       "       1987945., 1750967.,       0.,       0.,       0.,  313699.,\n",
       "        963515.,       0., 1600773.,       0.,       0.,       0.,\n",
       "             0.,  379638.,  503988.,       0.,  376421.,       0.,\n",
       "             0.,  558430.,  617867.,       0.,       0., 1690917.,\n",
       "             0.,  782940.,       0., 1973101., 1266130.,       0.,\n",
       "             0.,  266124., 1228839.,       0.,  128493.,       0.,\n",
       "        854785.,       0.,       0.,       0.,  328015., 2299695.,\n",
       "        738035.,       0., 1979576.,       0.,       0.,       0.,\n",
       "        505872.,  668134.,       0.,  441849.,       0.,  848720.,\n",
       "             0.,  821676., 1648254., 1899627.,       0., 1951677.,\n",
       "        635554.,  832728.,       0.,  671878.,  336803.,  701329.,\n",
       "       1457273.,  871130.,       0., 1570829.,       0.,  749153.,\n",
       "             0., 1908720.,  887535.,       0.,       0.,  437764.,\n",
       "             0.,  890878.,       0.,  572700.,  195192.,  307714.,\n",
       "             0.,       0.,       0.,  403537.,       0.,       0.,\n",
       "             0., 2363659.])"
      ]
     },
     "execution_count": 78,
     "metadata": {},
     "output_type": "execute_result"
    }
   ],
   "source": [
    "warehouse.products[1].demand_class.demand"
   ]
  },
  {
   "cell_type": "markdown",
   "metadata": {},
   "source": [
    "### Testing Machine class"
   ]
  },
  {
   "cell_type": "code",
   "execution_count": 79,
   "metadata": {},
   "outputs": [],
   "source": [
    "machine = Machine(warehouse)"
   ]
  },
  {
   "cell_type": "code",
   "execution_count": 80,
   "metadata": {},
   "outputs": [],
   "source": [
    "#order = {\"product\": \"p1\", \"amount\": 10_000}\n",
    "order = [0, 10_000]"
   ]
  },
  {
   "cell_type": "code",
   "execution_count": 81,
   "metadata": {},
   "outputs": [
    {
     "data": {
      "text/plain": [
       "True"
      ]
     },
     "execution_count": 81,
     "metadata": {},
     "output_type": "execute_result"
    }
   ],
   "source": [
    "machine.is_possible_to_produce(order)"
   ]
  },
  {
   "cell_type": "code",
   "execution_count": 82,
   "metadata": {},
   "outputs": [
    {
     "data": {
      "text/plain": [
       "0"
      ]
     },
     "execution_count": 82,
     "metadata": {},
     "output_type": "execute_result"
    }
   ],
   "source": [
    "machine.produce(order)\n",
    "machine.produce(order)\n",
    "machine.produce(order)\n",
    "machine.produce(order)"
   ]
  },
  {
   "cell_type": "code",
   "execution_count": 83,
   "metadata": {},
   "outputs": [
    {
     "data": {
      "text/plain": [
       "[403537, 413537, 423537, 433537, 443537]"
      ]
     },
     "execution_count": 83,
     "metadata": {},
     "output_type": "execute_result"
    }
   ],
   "source": [
    "warehouse.products[0].inventory_level"
   ]
  },
  {
   "cell_type": "code",
   "execution_count": 85,
   "metadata": {},
   "outputs": [
    {
     "data": {
      "text/plain": [
       "[17686910, 17686910, 17686910, 17686910, 17686910]"
      ]
     },
     "execution_count": 85,
     "metadata": {},
     "output_type": "execute_result"
    }
   ],
   "source": [
    "warehouse.products[1].inventory_level"
   ]
  },
  {
   "cell_type": "code",
   "execution_count": 87,
   "metadata": {},
   "outputs": [
    {
     "data": {
      "text/plain": [
       "10"
      ]
     },
     "execution_count": 87,
     "metadata": {},
     "output_type": "execute_result"
    }
   ],
   "source": [
    "machine.fulfill(10)"
   ]
  },
  {
   "cell_type": "code",
   "execution_count": 88,
   "metadata": {},
   "outputs": [
    {
     "data": {
      "text/plain": [
       "[403537, 413537, 423537, 433537, 443537]"
      ]
     },
     "execution_count": 88,
     "metadata": {},
     "output_type": "execute_result"
    }
   ],
   "source": [
    "warehouse.products[0].inventory_level"
   ]
  },
  {
   "cell_type": "code",
   "execution_count": 89,
   "metadata": {},
   "outputs": [
    {
     "data": {
      "text/plain": [
       "[17686910, 17686910, 17686910, 17686910, 17686910]"
      ]
     },
     "execution_count": 89,
     "metadata": {},
     "output_type": "execute_result"
    }
   ],
   "source": [
    "warehouse.products[1].inventory_level"
   ]
  },
  {
   "cell_type": "code",
   "execution_count": 39,
   "metadata": {},
   "outputs": [
    {
     "data": {
      "text/plain": [
       "array([78.])"
      ]
     },
     "execution_count": 39,
     "metadata": {},
     "output_type": "execute_result"
    }
   ],
   "source": [
    "import numpy as np\n",
    "np.random.lognormal(254.629, 1)\n",
    "lognorm_int(254.629, 1)"
   ]
  },
  {
   "cell_type": "code",
   "execution_count": 40,
   "metadata": {},
   "outputs": [
    {
     "name": "stdout",
     "output_type": "stream",
     "text": [
      "254.62962948033075\n",
      "255.0\n"
     ]
    }
   ],
   "source": [
    "mu0 = 100_000_000 * (0.22/86400)\n",
    "sigma0 = 10e-5\n",
    "\n",
    "mu = np.log(mu0**2 / np.sqrt(sigma0**2 + mu0**2))\n",
    "sigma = np.sqrt(np.log(sigma0**2 / mu0**2 + 1))\n",
    "\n",
    "print(np.mean(np.random.lognormal(mu, sigma, 100000)))\n",
    "print(np.mean(lognorm_int(mu0, sigma0, size=100000)))"
   ]
  },
  {
   "cell_type": "code",
   "execution_count": 41,
   "metadata": {},
   "outputs": [
    {
     "name": "stdout",
     "output_type": "stream",
     "text": [
      "254.62953253060624\n"
     ]
    }
   ],
   "source": [
    "# Profs code\n",
    "def lognorm(mu, varcoef) -> float:\n",
    "    \"\"\"\n",
    "    scales the target expected value mu and varcoef = sigma/mu to the \n",
    "    embedded normal distribution with mu0 and sigma0 and returns\n",
    "    the corresponding output\n",
    "    beauty of lognorm: is always > 0 \n",
    "    \"\"\"\n",
    "    mu0 = np.log(mu / np.sqrt(np.power(varcoef, 2) + 1.0))\n",
    "    sigma0 = np.sqrt(np.log(np.power(varcoef, 2) + 1.0))\n",
    "    return random.lognormvariate(mu0, sigma0)\n",
    "\n",
    "sum = 0\n",
    "for i in range(100000):\n",
    "    sum += lognorm(mu0, sigma0)\n",
    "print(sum/100000)"
   ]
  },
  {
   "cell_type": "code",
   "execution_count": 42,
   "metadata": {},
   "outputs": [
    {
     "data": {
      "text/plain": [
       "False"
      ]
     },
     "execution_count": 42,
     "metadata": {},
     "output_type": "execute_result"
    }
   ],
   "source": [
    "not 1"
   ]
  },
  {
   "cell_type": "markdown",
   "metadata": {},
   "source": [
    "### Testing the environment"
   ]
  },
  {
   "cell_type": "code",
   "execution_count": 2,
   "metadata": {},
   "outputs": [],
   "source": [
    "from environment_ddpg_n import *"
   ]
  },
  {
   "cell_type": "code",
   "execution_count": 3,
   "metadata": {},
   "outputs": [],
   "source": [
    "env = Production_DDPG_Env()"
   ]
  },
  {
   "cell_type": "code",
   "execution_count": 92,
   "metadata": {},
   "outputs": [
    {
     "data": {
      "text/plain": [
       "20181322"
      ]
     },
     "execution_count": 92,
     "metadata": {},
     "output_type": "execute_result"
    }
   ],
   "source": [
    "env.machine.warehouse.current_warehouse_level"
   ]
  },
  {
   "cell_type": "code",
   "execution_count": 4,
   "metadata": {},
   "outputs": [
    {
     "data": {
      "text/plain": [
       "MultiDiscrete([       2 50000000])"
      ]
     },
     "execution_count": 4,
     "metadata": {},
     "output_type": "execute_result"
    }
   ],
   "source": [
    "env.action_space"
   ]
  },
  {
   "cell_type": "code",
   "execution_count": 111,
   "metadata": {},
   "outputs": [
    {
     "data": {
      "text/plain": [
       "True"
      ]
     },
     "execution_count": 111,
     "metadata": {},
     "output_type": "execute_result"
    }
   ],
   "source": [
    "env.action_space.sample()\n",
    "env.machine.is_possible_to_produce([1, 1000000000])\n",
    "env.machine.warehouse.is_possible_to_store([1, 100])"
   ]
  },
  {
   "cell_type": "code",
   "execution_count": 2,
   "metadata": {},
   "outputs": [
    {
     "name": "stdout",
     "output_type": "stream",
     "text": [
      "3\n",
      "Box(0, 1, (5,), int64)\n",
      "[0 1 0 0 1]\n",
      "None\n"
     ]
    }
   ],
   "source": [
    "import gym\n",
    "from gym import spaces\n",
    "import numpy as np\n",
    "\n",
    "test_box = spaces.Box(low=0, high=10, dtype=np.int32)\n",
    "#possible idea for the action space:\n",
    "test_box_2 = spaces.Tuple(\n",
    "    (spaces.Discrete(2), spaces.Box(low=0, high=300000, dtype=np.int32))\n",
    ")\n",
    "\n",
    "test_box_3 = spaces.Tuple(\n",
    "    (spaces.Discrete(2), spaces.Discrete(3))\n",
    ")\n",
    "\n",
    "test_box_4 = spaces.Dict(\n",
    "    {\n",
    "        \"a\": spaces.Discrete(2), \n",
    "        \"b\": spaces.Discrete(3)\n",
    "    }\n",
    ")\n",
    "\n",
    "print(spaces.utils.flatdim(test_box_2))\n",
    "print(spaces.utils.flatten_space(test_box_4))\n",
    "print(spaces.utils.flatten(test_box_4, test_box_4.sample()))\n",
    "print(test_box_4.shape)"
   ]
  },
  {
   "cell_type": "code",
   "execution_count": null,
   "metadata": {},
   "outputs": [
    {
     "data": {
      "text/plain": [
       "251453"
      ]
     },
     "execution_count": 29,
     "metadata": {},
     "output_type": "execute_result"
    }
   ],
   "source": [
    "test_box_2.sample()[1][0]"
   ]
  },
  {
   "cell_type": "code",
   "execution_count": 11,
   "metadata": {},
   "outputs": [
    {
     "data": {
      "text/plain": [
       "array([       0, 12916977])"
      ]
     },
     "execution_count": 11,
     "metadata": {},
     "output_type": "execute_result"
    }
   ],
   "source": [
    "test_box_5 = spaces.MultiDiscrete([2, 50_000_000])\n",
    "test_box_5.sample()"
   ]
  },
  {
   "cell_type": "code",
   "execution_count": 15,
   "metadata": {},
   "outputs": [
    {
     "data": {
      "text/plain": [
       "array([       1, 10951471])"
      ]
     },
     "execution_count": 15,
     "metadata": {},
     "output_type": "execute_result"
    }
   ],
   "source": [
    "env.action_space.sample()"
   ]
  },
  {
   "cell_type": "code",
   "execution_count": 16,
   "metadata": {},
   "outputs": [
    {
     "data": {
      "text/plain": [
       "array([39560669, 11064436,        1, 18677161])"
      ]
     },
     "execution_count": 16,
     "metadata": {},
     "output_type": "execute_result"
    }
   ],
   "source": [
    "env.observation_space.sample()"
   ]
  },
  {
   "cell_type": "markdown",
   "metadata": {},
   "source": [
    "## Testing the full environment"
   ]
  },
  {
   "cell_type": "code",
   "execution_count": 56,
   "metadata": {},
   "outputs": [
    {
     "data": {
      "text/plain": [
       "((240163.0, 12838986.0, 33849.0, 1658343.0), 0, False, False, {})"
      ]
     },
     "execution_count": 56,
     "metadata": {},
     "output_type": "execute_result"
    }
   ],
   "source": [
    "env.step(env.action_space.sample())"
   ]
  },
  {
   "cell_type": "code",
   "execution_count": 112,
   "metadata": {},
   "outputs": [
    {
     "data": {
      "text/plain": [
       "(391417, 17797815, 0, 0)"
      ]
     },
     "execution_count": 112,
     "metadata": {},
     "output_type": "execute_result"
    }
   ],
   "source": [
    "env._get_obs()"
   ]
  },
  {
   "cell_type": "code",
   "execution_count": 113,
   "metadata": {},
   "outputs": [
    {
     "data": {
      "text/plain": [
       "((425614, 18681378, 30928, 0), {})"
      ]
     },
     "execution_count": 113,
     "metadata": {},
     "output_type": "execute_result"
    }
   ],
   "source": [
    "env.reset()"
   ]
  },
  {
   "cell_type": "code",
   "execution_count": 116,
   "metadata": {},
   "outputs": [
    {
     "data": {
      "text/plain": [
       "2"
      ]
     },
     "execution_count": 116,
     "metadata": {},
     "output_type": "execute_result"
    }
   ],
   "source": [
    "env.action_space.__len__()"
   ]
  },
  {
   "cell_type": "markdown",
   "metadata": {},
   "source": [
    "# Testing utils.py"
   ]
  },
  {
   "cell_type": "code",
   "execution_count": 18,
   "metadata": {},
   "outputs": [
    {
     "data": {
      "text/plain": [
       "50000000"
      ]
     },
     "execution_count": 18,
     "metadata": {},
     "output_type": "execute_result"
    }
   ],
   "source": [
    "env.action_space[1].n"
   ]
  },
  {
   "cell_type": "code",
   "execution_count": 21,
   "metadata": {},
   "outputs": [],
   "source": [
    "from ddpg_utils import *\n",
    "\n",
    "gaus = GaussianNoise(env.action_space)"
   ]
  },
  {
   "cell_type": "code",
   "execution_count": 22,
   "metadata": {},
   "outputs": [
    {
     "name": "stdout",
     "output_type": "stream",
     "text": [
      "Unexpected exception formatting exception. Falling back to standard exception\n"
     ]
    },
    {
     "name": "stderr",
     "output_type": "stream",
     "text": [
      "Traceback (most recent call last):\n",
      "  File \"/Users/alex/anaconda3/envs/study/lib/python3.11/site-packages/numpy/core/fromnumeric.py\", line 59, in _wrapfunc\n",
      "    return bound(*args, **kwds)\n",
      "           ^^^^^^^^^^^^^^^^^^^^\n",
      "  File \"/Users/alex/anaconda3/envs/study/lib/python3.11/site-packages/numpy/core/_methods.py\", line 99, in _clip\n",
      "    return um.clip(a, min, max, out=out, **kwargs)\n",
      "           ^^^^^^^^^^^^^^^^^^^^^^^^^^^^^^^^^^^^^^^\n",
      "numpy.core._exceptions._UFuncInputCastingError: Cannot cast ufunc 'clip' input 0 from dtype('float64') to dtype('int32') with casting rule 'same_kind'\n",
      "\n",
      "During handling of the above exception, another exception occurred:\n",
      "\n",
      "Traceback (most recent call last):\n",
      "  File \"/Users/alex/anaconda3/envs/study/lib/python3.11/site-packages/IPython/core/interactiveshell.py\", line 3553, in run_code\n",
      "    exec(code_obj, self.user_global_ns, self.user_ns)\n",
      "  File \"/var/folders/tx/v7tzcb5x7dj1jn2y987ft2m80000gn/T/ipykernel_2346/2918755287.py\", line 1, in <module>\n",
      "    gaus.get_action(env.action_space.sample())\n",
      "  File \"/Users/alex/Documents/Project_Module/project-module-repo/environment_new_Alex/ddpg_utils.py\", line 17, in get_action\n",
      "    return np.clip(action + noise, 0, self.action_space[1].n, dtype=np.int32)\n",
      "           ^^^^^^^^^^^^^^^^^^^^^^^^^^^^^^^^^^^^^^^^^^^^^^^^^^^^^^^^^^^^^^^^^^\n",
      "  File \"/Users/alex/anaconda3/envs/study/lib/python3.11/site-packages/numpy/core/fromnumeric.py\", line 2169, in clip\n",
      "    return _wrapfunc(a, 'clip', a_min, a_max, out=out, **kwargs)\n",
      "           ^^^^^^^^^^^^^^^^^^^^^^^^^^^^^^^^^^^^^^^^^^^^^^^^^^^^^\n",
      "  File \"/Users/alex/anaconda3/envs/study/lib/python3.11/site-packages/numpy/core/fromnumeric.py\", line 68, in _wrapfunc\n",
      "    return _wrapit(obj, method, *args, **kwds)\n",
      "           ^^^^^^^^^^^^^^^^^^^^^^^^^^^^^^^^^^^\n",
      "  File \"/Users/alex/anaconda3/envs/study/lib/python3.11/site-packages/numpy/core/fromnumeric.py\", line 45, in _wrapit\n",
      "    result = getattr(asarray(obj), method)(*args, **kwds)\n",
      "             ^^^^^^^^^^^^^^^^^^^^^^^^^^^^^^^^^^^^^^^^^^^^\n",
      "  File \"/Users/alex/anaconda3/envs/study/lib/python3.11/site-packages/numpy/core/_methods.py\", line 99, in _clip\n",
      "    return um.clip(a, min, max, out=out, **kwargs)\n",
      "           ^^^^^^^^^^^^^^^^^^^^^^^^^^^^^^^^^^^^^^^\n",
      "numpy.core._exceptions._UFuncInputCastingError: Cannot cast ufunc 'clip' input 0 from dtype('float64') to dtype('int32') with casting rule 'same_kind'\n",
      "\n",
      "During handling of the above exception, another exception occurred:\n",
      "\n",
      "Traceback (most recent call last):\n",
      "  File \"/Users/alex/anaconda3/envs/study/lib/python3.11/site-packages/IPython/core/interactiveshell.py\", line 2144, in showtraceback\n",
      "    stb = self.InteractiveTB.structured_traceback(\n",
      "          ^^^^^^^^^^^^^^^^^^^^^^^^^^^^^^^^^^^^^^^^\n",
      "  File \"/Users/alex/anaconda3/envs/study/lib/python3.11/site-packages/IPython/core/ultratb.py\", line 1435, in structured_traceback\n",
      "    return FormattedTB.structured_traceback(\n",
      "           ^^^^^^^^^^^^^^^^^^^^^^^^^^^^^^^^^\n",
      "  File \"/Users/alex/anaconda3/envs/study/lib/python3.11/site-packages/IPython/core/ultratb.py\", line 1326, in structured_traceback\n",
      "    return VerboseTB.structured_traceback(\n",
      "           ^^^^^^^^^^^^^^^^^^^^^^^^^^^^^^^\n",
      "  File \"/Users/alex/anaconda3/envs/study/lib/python3.11/site-packages/IPython/core/ultratb.py\", line 1173, in structured_traceback\n",
      "    formatted_exception = self.format_exception_as_a_whole(etype, evalue, etb, number_of_lines_of_context,\n",
      "                          ^^^^^^^^^^^^^^^^^^^^^^^^^^^^^^^^^^^^^^^^^^^^^^^^^^^^^^^^^^^^^^^^^^^^^^^^^^^^^^^^\n",
      "  File \"/Users/alex/anaconda3/envs/study/lib/python3.11/site-packages/IPython/core/ultratb.py\", line 1088, in format_exception_as_a_whole\n",
      "    frames.append(self.format_record(record))\n",
      "                  ^^^^^^^^^^^^^^^^^^^^^^^^^^\n",
      "  File \"/Users/alex/anaconda3/envs/study/lib/python3.11/site-packages/IPython/core/ultratb.py\", line 970, in format_record\n",
      "    frame_info.lines, Colors, self.has_colors, lvals\n",
      "    ^^^^^^^^^^^^^^^^\n",
      "  File \"/Users/alex/anaconda3/envs/study/lib/python3.11/site-packages/IPython/core/ultratb.py\", line 792, in lines\n",
      "    return self._sd.lines\n",
      "           ^^^^^^^^^^^^^^\n",
      "  File \"/Users/alex/anaconda3/envs/study/lib/python3.11/site-packages/stack_data/utils.py\", line 145, in cached_property_wrapper\n",
      "    value = obj.__dict__[self.func.__name__] = self.func(obj)\n",
      "                                               ^^^^^^^^^^^^^^\n",
      "  File \"/Users/alex/anaconda3/envs/study/lib/python3.11/site-packages/stack_data/core.py\", line 698, in lines\n",
      "    pieces = self.included_pieces\n",
      "             ^^^^^^^^^^^^^^^^^^^^\n",
      "  File \"/Users/alex/anaconda3/envs/study/lib/python3.11/site-packages/stack_data/utils.py\", line 145, in cached_property_wrapper\n",
      "    value = obj.__dict__[self.func.__name__] = self.func(obj)\n",
      "                                               ^^^^^^^^^^^^^^\n",
      "  File \"/Users/alex/anaconda3/envs/study/lib/python3.11/site-packages/stack_data/core.py\", line 649, in included_pieces\n",
      "    pos = scope_pieces.index(self.executing_piece)\n",
      "                             ^^^^^^^^^^^^^^^^^^^^\n",
      "  File \"/Users/alex/anaconda3/envs/study/lib/python3.11/site-packages/stack_data/utils.py\", line 145, in cached_property_wrapper\n",
      "    value = obj.__dict__[self.func.__name__] = self.func(obj)\n",
      "                                               ^^^^^^^^^^^^^^\n",
      "  File \"/Users/alex/anaconda3/envs/study/lib/python3.11/site-packages/stack_data/core.py\", line 628, in executing_piece\n",
      "    return only(\n",
      "           ^^^^^\n",
      "  File \"/Users/alex/anaconda3/envs/study/lib/python3.11/site-packages/executing/executing.py\", line 164, in only\n",
      "    raise NotOneValueFound('Expected one value, found 0')\n",
      "executing.executing.NotOneValueFound: Expected one value, found 0\n"
     ]
    }
   ],
   "source": [
    "gaus.get_action(env.action_space.sample())"
   ]
  },
  {
   "cell_type": "code",
   "execution_count": null,
   "metadata": {},
   "outputs": [],
   "source": []
  }
 ],
 "metadata": {
  "kernelspec": {
   "display_name": "study",
   "language": "python",
   "name": "python3"
  },
  "language_info": {
   "codemirror_mode": {
    "name": "ipython",
    "version": 3
   },
   "file_extension": ".py",
   "mimetype": "text/x-python",
   "name": "python",
   "nbconvert_exporter": "python",
   "pygments_lexer": "ipython3",
   "version": "3.11.7"
  }
 },
 "nbformat": 4,
 "nbformat_minor": 2
}
