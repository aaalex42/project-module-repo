{
 "cells": [
  {
   "cell_type": "code",
   "execution_count": 35,
   "metadata": {},
   "outputs": [
    {
     "name": "stdout",
     "output_type": "stream",
     "text": [
      "The autoreload extension is already loaded. To reload it, use:\n",
      "  %reload_ext autoreload\n"
     ]
    }
   ],
   "source": [
    "%load_ext autoreload\n",
    "%autoreload 2"
   ]
  },
  {
   "cell_type": "code",
   "execution_count": 36,
   "metadata": {},
   "outputs": [],
   "source": [
    "from classes_n import *\n",
    "from main import *\n",
    "\n",
    "\n",
    "demand_p1 = Demand(P1)\n",
    "\n",
    "combined_p1 = Inventory(demand_p1)\n"
   ]
  },
  {
   "cell_type": "code",
   "execution_count": 37,
   "metadata": {},
   "outputs": [
    {
     "name": "stdout",
     "output_type": "stream",
     "text": [
      "2\n"
     ]
    },
    {
     "data": {
      "text/plain": [
       "[378290]"
      ]
     },
     "execution_count": 37,
     "metadata": {},
     "output_type": "execute_result"
    }
   ],
   "source": [
    "print(INVENTORY_MODE)\n",
    "\n",
    "combined_p1.inventory_level\n"
   ]
  },
  {
   "cell_type": "code",
   "execution_count": 38,
   "metadata": {},
   "outputs": [
    {
     "data": {
      "text/plain": [
       "[378290, 378390, 378340]"
      ]
     },
     "execution_count": 38,
     "metadata": {},
     "output_type": "execute_result"
    }
   ],
   "source": [
    "combined_p1.put(100)\n",
    "combined_p1.get(50)\n",
    "combined_p1.inventory_level"
   ]
  },
  {
   "cell_type": "markdown",
   "metadata": {},
   "source": [
    "### Testing the warehouse"
   ]
  },
  {
   "cell_type": "code",
   "execution_count": 39,
   "metadata": {},
   "outputs": [],
   "source": [
    "demand_p1, demand_p2 = Demand(P1), Demand(P2)\n",
    "\n",
    "combined_p1, combined_p2 = Inventory(demand_p1), Inventory(demand_p2)\n",
    "\n",
    "warehouse = Warehouse(combined_p1, combined_p2)"
   ]
  },
  {
   "cell_type": "code",
   "execution_count": 40,
   "metadata": {},
   "outputs": [],
   "source": [
    "order = {\"product\":\"p1\", \"amount\": 40_000_000}"
   ]
  },
  {
   "cell_type": "code",
   "execution_count": 41,
   "metadata": {},
   "outputs": [
    {
     "data": {
      "text/plain": [
       "18805097"
      ]
     },
     "execution_count": 41,
     "metadata": {},
     "output_type": "execute_result"
    }
   ],
   "source": [
    "warehouse.current_warehouse_level"
   ]
  },
  {
   "cell_type": "code",
   "execution_count": 42,
   "metadata": {},
   "outputs": [
    {
     "data": {
      "text/plain": [
       "False"
      ]
     },
     "execution_count": 42,
     "metadata": {},
     "output_type": "execute_result"
    }
   ],
   "source": [
    "warehouse.is_possible_to_store(order)"
   ]
  },
  {
   "cell_type": "markdown",
   "metadata": {},
   "source": [
    "### Testing the Inventory class inside the Warehouse"
   ]
  },
  {
   "cell_type": "code",
   "execution_count": 43,
   "metadata": {},
   "outputs": [
    {
     "data": {
      "text/plain": [
       "[18418462]"
      ]
     },
     "execution_count": 43,
     "metadata": {},
     "output_type": "execute_result"
    }
   ],
   "source": [
    "warehouse.products[1].inventory_level"
   ]
  },
  {
   "cell_type": "markdown",
   "metadata": {},
   "source": [
    "### Testing Demand class inside the Warehouse"
   ]
  },
  {
   "cell_type": "code",
   "execution_count": 44,
   "metadata": {},
   "outputs": [
    {
     "data": {
      "text/plain": [
       "array([      0.,       0.,       0.,  223654.,  295269.,       0.,\n",
       "        721844.,       0.,       0., 1463733.,       0.,       0.,\n",
       "             0.,  968580.,  463215.,       0., 1655813.,       0.,\n",
       "             0.,  659732.,       0.,  431042.,       0., 1923954.,\n",
       "             0.,  483903.,  232350.,       0.,       0.,       0.,\n",
       "             0.,       0.,  230008.,  976298., 1191033.,       0.,\n",
       "       1401510.,       0.,  709791., 1042305., 1353245.,       0.,\n",
       "             0., 1053069.,       0., 1054610.,       0.,  776955.,\n",
       "        406003.,  433453.,       0.,       0.,       0.,  950532.,\n",
       "             0.,  522510.,       0.,       0., 1016839.,       0.,\n",
       "        520142.,       0., 1698093.,       0.,  839677.,  473293.,\n",
       "             0.,  739734.,       0.,  658379.,  620833.,       0.,\n",
       "        715438.,       0.,       0.,  925270.,  982839.,  294984.,\n",
       "        773272.,       0., 1218866.,       0.,       0.,       0.,\n",
       "       1129966., 1457216.,       0., 1509158.,       0.,  849059.,\n",
       "        551764., 1423112.,       0.,       0.,       0.,       0.,\n",
       "             0., 1887855., 1248908.,       0.,       0.,       0.,\n",
       "       1908081.,       0.,  730089.,       0.,  698291.,  363692.,\n",
       "             0.,       0., 1322668.,  413556.,       0.,       0.,\n",
       "       2831852., 2114243.,       0.,       0.,       0., 1647722.,\n",
       "             0.,  545144.,       0.,  857512.,       0.,  308438.,\n",
       "       1791291.,  837654.,       0.,       0.,       0., 1101148.,\n",
       "        293943.,       0.,  491673.,       0.,       0.,  774936.,\n",
       "       1327462.,       0., 2565071.,       0.,       0., 1478466.,\n",
       "             0.,       0.,       0.,       0.,       0., 3730900.,\n",
       "             0.,       0.,  687766.,       0.,       0.,  502045.,\n",
       "        711792.,  443114.,       0.,       0.,       0.,       0.,\n",
       "       4392024., 1116043.,  814526.,       0.,  249398., 1133767.,\n",
       "             0., 1711043.,  705569.,       0., 1047334.,       0.,\n",
       "       1391290., 1132150.,       0.,  626469.,       0., 1542829.,\n",
       "             0.,  474739., 1522414., 1746140.,       0.,  949018.,\n",
       "             0.,  574613.,  257409.,  558134.,       0., 1350130.,\n",
       "             0.,  579777.,       0.,       0.,  330165.,  410723.,\n",
       "             0.,  737233.,  607877.,       0.,  677482.,       0.,\n",
       "             0.,  791958.,       0., 2381691.,       0.,  264861.,\n",
       "             0., 3720394.,       0.,  632574.,       0.,  243635.,\n",
       "             0., 1096114.,       0.,       0., 1078606.,       0.,\n",
       "       1157422.,       0.,  582609.,       0.,  538818.,  270802.,\n",
       "        927921., 1941301.,  800836., 2000052., 2557098., 1267173.,\n",
       "        516847.,  697662.,  859286.,  459600.,       0.,  446264.,\n",
       "             0., 2018192.,  467082.,       0.,       0.,       0.,\n",
       "        697190.,  692506., 1315713.,       0.,       0.,       0.,\n",
       "        692950.,       0., 2527929.,       0.,  544424.,       0.,\n",
       "       1158771.,       0.,  749890.,       0.,  665816.,  695619.,\n",
       "             0.,  782695.,       0.,       0.,       0., 1237736.,\n",
       "        985901.,       0.,       0.,  773078.,       0., 1064852.,\n",
       "             0.,  654887.,  309287.,       0.,       0., 1254834.,\n",
       "             0.,  928736.,       0.,       0.,  693183.,       0.,\n",
       "             0.,  516928.,  516670.,       0.,       0.,       0.,\n",
       "        902718.,       0., 2255585.,       0.,  896703., 1258680.,\n",
       "        414883., 1096007.,       0.,  759744., 2352538.,  863973.,\n",
       "             0.,       0.,       0.,  334265., 1705210.,  350272.,\n",
       "        356967., 2010964.,  622129.,       0.,  418121.,       0.,\n",
       "        210158.,       0.,       0.,  837227.,  415225.,  682316.,\n",
       "             0.,  414033.,       0.,  462360.,  465198.,  728588.,\n",
       "             0.,       0.,  266294.,       0.,       0., 1614315.,\n",
       "             0., 1355853.,       0.,  548391.,       0.,       0.,\n",
       "             0.,       0., 4817134.,       0.,  701384.,       0.,\n",
       "        756536.,  166813.,       0.,       0.,  557631.,  573209.,\n",
       "       2650802.,       0.,  711644.,       0.,       0.,  495250.,\n",
       "             0.,       0.,  745154., 2122980.,       0.,  732305.,\n",
       "        307324., 3404806.,       0.,       0., 1146053., 1451063.,\n",
       "             0.,       0.,       0.,  495892.,       0.,  976337.,\n",
       "        282035., 1596400.,  259205.,       0.,       0., 1747308.,\n",
       "        233786., 1462632., 1025285.,  677310.,       0., 1208392.,\n",
       "        651043.,       0.,       0.,  391156.,       0.,       0.,\n",
       "             0.,  446622.,       0.,       0., 1200522.,  999071.,\n",
       "        467953.,       0.,  119728.,       0.,       0., 2017078.,\n",
       "             0.,  797159., 1092152.,       0.,  414996., 1700630.,\n",
       "             0.,       0.,       0.,  677978.,       0.,  781727.,\n",
       "             0., 1051115.,       0.,       0.,       0.,  351738.,\n",
       "             0.,       0., 1138010.,  560412.,       0., 1456364.,\n",
       "             0.,       0.,       0.,       0.,       0.,  626783.,\n",
       "       1665572.,  773144.,       0.,       0.,  149381.,       0.,\n",
       "             0.,  876809.,  665450.,       0.,  440530., 1204835.,\n",
       "             0.,  575812.,       0., 1649257.,       0.,       0.,\n",
       "        535611., 1051846.,       0., 1339969.,       0.,       0.,\n",
       "        794584.,  846358., 1222811.,       0., 1213042.,  607771.,\n",
       "             0.,  323090.,  923192.,       0.,       0.,       0.,\n",
       "        238300.,       0.,  422587.,  552931.,       0.,  969102.,\n",
       "       2070512.,       0.,       0.,       0.,       0., 1141925.,\n",
       "       1884997., 1699941.,       0.,       0.,  452843.,  654724.,\n",
       "             0.,  942583.,  923956.,       0.,  695614., 1718640.,\n",
       "             0.,       0.])"
      ]
     },
     "execution_count": 44,
     "metadata": {},
     "output_type": "execute_result"
    }
   ],
   "source": [
    "warehouse.products[1].demand_class.demand"
   ]
  },
  {
   "cell_type": "markdown",
   "metadata": {},
   "source": [
    "### Testing Machine class"
   ]
  },
  {
   "cell_type": "code",
   "execution_count": 45,
   "metadata": {},
   "outputs": [],
   "source": [
    "machine = Machine(warehouse)"
   ]
  },
  {
   "cell_type": "code",
   "execution_count": 46,
   "metadata": {},
   "outputs": [],
   "source": [
    "order = {\"product\": \"p1\", \"amount\": 10_000}"
   ]
  },
  {
   "cell_type": "code",
   "execution_count": 47,
   "metadata": {},
   "outputs": [],
   "source": [
    "#machine.is_possible_to_produce(order)"
   ]
  },
  {
   "cell_type": "code",
   "execution_count": 48,
   "metadata": {},
   "outputs": [
    {
     "data": {
      "text/plain": [
       "0"
      ]
     },
     "execution_count": 48,
     "metadata": {},
     "output_type": "execute_result"
    }
   ],
   "source": [
    "machine.produce(order)\n",
    "machine.produce(order)\n",
    "machine.produce(order)\n",
    "machine.produce(order)"
   ]
  },
  {
   "cell_type": "code",
   "execution_count": 49,
   "metadata": {},
   "outputs": [
    {
     "data": {
      "text/plain": [
       "[386635, 396635, 406635, 416635, 426635]"
      ]
     },
     "execution_count": 49,
     "metadata": {},
     "output_type": "execute_result"
    }
   ],
   "source": [
    "warehouse.products[0].inventory_level"
   ]
  },
  {
   "cell_type": "code",
   "execution_count": 50,
   "metadata": {},
   "outputs": [
    {
     "data": {
      "text/plain": [
       "[18418462, 18418462, 18418462, 18418462, 18418462]"
      ]
     },
     "execution_count": 50,
     "metadata": {},
     "output_type": "execute_result"
    }
   ],
   "source": [
    "warehouse.products[1].inventory_level"
   ]
  },
  {
   "cell_type": "code",
   "execution_count": 63,
   "metadata": {},
   "outputs": [
    {
     "data": {
      "text/plain": [
       "10"
      ]
     },
     "execution_count": 63,
     "metadata": {},
     "output_type": "execute_result"
    }
   ],
   "source": [
    "machine.fulfill(10)"
   ]
  },
  {
   "cell_type": "code",
   "execution_count": 64,
   "metadata": {},
   "outputs": [
    {
     "data": {
      "text/plain": [
       "[386635,\n",
       " 396635,\n",
       " 406635,\n",
       " 416635,\n",
       " 426635,\n",
       " 426635,\n",
       " 426635,\n",
       " 426635,\n",
       " 426635,\n",
       " 426635]"
      ]
     },
     "execution_count": 64,
     "metadata": {},
     "output_type": "execute_result"
    }
   ],
   "source": [
    "warehouse.products[0].inventory_level"
   ]
  },
  {
   "cell_type": "code",
   "execution_count": 65,
   "metadata": {},
   "outputs": [
    {
     "data": {
      "text/plain": [
       "[18418462,\n",
       " 18418462,\n",
       " 18418462,\n",
       " 18418462,\n",
       " 18418462,\n",
       " 18418462,\n",
       " 18418462,\n",
       " 18418462,\n",
       " 18418462,\n",
       " 18418462]"
      ]
     },
     "execution_count": 65,
     "metadata": {},
     "output_type": "execute_result"
    }
   ],
   "source": [
    "warehouse.products[1].inventory_level"
   ]
  },
  {
   "cell_type": "code",
   "execution_count": 54,
   "metadata": {},
   "outputs": [
    {
     "data": {
      "text/plain": [
       "array([274.])"
      ]
     },
     "execution_count": 54,
     "metadata": {},
     "output_type": "execute_result"
    }
   ],
   "source": [
    "import numpy as np\n",
    "np.random.lognormal(254.629, 1)\n",
    "lognorm_int(254.629, 1)"
   ]
  },
  {
   "cell_type": "code",
   "execution_count": 55,
   "metadata": {},
   "outputs": [
    {
     "name": "stdout",
     "output_type": "stream",
     "text": [
      "254.62962923797372\n",
      "255.0\n"
     ]
    }
   ],
   "source": [
    "mu0 = 100_000_000 * (0.22/86400)\n",
    "sigma0 = 10e-5\n",
    "\n",
    "mu = np.log(mu0**2 / np.sqrt(sigma0**2 + mu0**2))\n",
    "sigma = np.sqrt(np.log(sigma0**2 / mu0**2 + 1))\n",
    "\n",
    "print(np.mean(np.random.lognormal(mu, sigma, 100000)))\n",
    "print(np.mean(lognorm_int(mu0, sigma0, size=100000)))"
   ]
  },
  {
   "cell_type": "code",
   "execution_count": 56,
   "metadata": {},
   "outputs": [
    {
     "name": "stdout",
     "output_type": "stream",
     "text": [
      "254.62973102245024\n"
     ]
    }
   ],
   "source": [
    "# Profs code\n",
    "def lognorm(mu, varcoef) -> float:\n",
    "    \"\"\"\n",
    "    scales the target expected value mu and varcoef = sigma/mu to the \n",
    "    embedded normal distribution with mu0 and sigma0 and returns\n",
    "    the corresponding output\n",
    "    beauty of lognorm: is always > 0 \n",
    "    \"\"\"\n",
    "    mu0 = np.log(mu / np.sqrt(np.power(varcoef, 2) + 1.0))\n",
    "    sigma0 = np.sqrt(np.log(np.power(varcoef, 2) + 1.0))\n",
    "    return random.lognormvariate(mu0, sigma0)\n",
    "\n",
    "sum = 0\n",
    "for i in range(100000):\n",
    "    sum += lognorm(mu0, sigma0)\n",
    "print(sum/100000)"
   ]
  },
  {
   "cell_type": "code",
   "execution_count": 57,
   "metadata": {},
   "outputs": [
    {
     "data": {
      "text/plain": [
       "False"
      ]
     },
     "execution_count": 57,
     "metadata": {},
     "output_type": "execute_result"
    }
   ],
   "source": [
    "not 1"
   ]
  },
  {
   "cell_type": "markdown",
   "metadata": {},
   "source": [
    "### Testing the environment"
   ]
  },
  {
   "cell_type": "code",
   "execution_count": 66,
   "metadata": {},
   "outputs": [],
   "source": [
    "from environment_ddpg_n import *"
   ]
  },
  {
   "cell_type": "code",
   "execution_count": 67,
   "metadata": {},
   "outputs": [],
   "source": [
    "env = Production_DQN_Env()"
   ]
  },
  {
   "cell_type": "code",
   "execution_count": 72,
   "metadata": {},
   "outputs": [
    {
     "data": {
      "text/plain": [
       "19825801"
      ]
     },
     "execution_count": 72,
     "metadata": {},
     "output_type": "execute_result"
    }
   ],
   "source": [
    "env.machine.warehouse.current_warehouse_level"
   ]
  },
  {
   "cell_type": "code",
   "execution_count": 31,
   "metadata": {},
   "outputs": [
    {
     "name": "stdout",
     "output_type": "stream",
     "text": [
      "3\n",
      "Box(0, 1, (5,), int64)\n",
      "[1 0 0 1 0]\n",
      "None\n"
     ]
    }
   ],
   "source": [
    "import gym\n",
    "from gym import spaces\n",
    "import numpy as np\n",
    "\n",
    "test_box = spaces.Box(low=0, high=10, dtype=np.int32)\n",
    "#possible idea for the action space:\n",
    "test_box_2 = spaces.Tuple(\n",
    "    (spaces.Discrete(2), spaces.Box(low=0, high=300000, dtype=np.int32))\n",
    ")\n",
    "\n",
    "test_box_3 = spaces.Tuple(\n",
    "    (spaces.Discrete(2), spaces.Discrete(3))\n",
    ")\n",
    "\n",
    "test_box_4 = spaces.Dict(\n",
    "    {\n",
    "        \"a\": spaces.Discrete(2), \n",
    "        \"b\": spaces.Discrete(3)\n",
    "    }\n",
    ")\n",
    "\n",
    "print(spaces.utils.flatdim(test_box_2))\n",
    "print(spaces.utils.flatten_space(test_box_4))\n",
    "print(spaces.utils.flatten(test_box_4, test_box_4.sample()))\n",
    "print(test_box_4.shape)"
   ]
  },
  {
   "cell_type": "code",
   "execution_count": 29,
   "metadata": {},
   "outputs": [
    {
     "data": {
      "text/plain": [
       "251453"
      ]
     },
     "execution_count": 29,
     "metadata": {},
     "output_type": "execute_result"
    }
   ],
   "source": [
    "test_box_2.sample()[1][0]"
   ]
  },
  {
   "cell_type": "code",
   "execution_count": 36,
   "metadata": {},
   "outputs": [
    {
     "ename": "SyntaxError",
     "evalue": "invalid syntax (171344864.py, line 1)",
     "output_type": "error",
     "traceback": [
      "\u001b[0;36m  Cell \u001b[0;32mIn[36], line 1\u001b[0;36m\u001b[0m\n\u001b[0;31m    import ..environment_Alex.base_functions\u001b[0m\n\u001b[0m           ^\u001b[0m\n\u001b[0;31mSyntaxError\u001b[0m\u001b[0;31m:\u001b[0m invalid syntax\n"
     ]
    }
   ],
   "source": [
    "import ..environment_Alex.base_functions\n"
   ]
  },
  {
   "cell_type": "code",
   "execution_count": null,
   "metadata": {},
   "outputs": [],
   "source": []
  }
 ],
 "metadata": {
  "kernelspec": {
   "display_name": "study",
   "language": "python",
   "name": "python3"
  },
  "language_info": {
   "codemirror_mode": {
    "name": "ipython",
    "version": 3
   },
   "file_extension": ".py",
   "mimetype": "text/x-python",
   "name": "python",
   "nbconvert_exporter": "python",
   "pygments_lexer": "ipython3",
   "version": "3.11.4"
  }
 },
 "nbformat": 4,
 "nbformat_minor": 2
}
