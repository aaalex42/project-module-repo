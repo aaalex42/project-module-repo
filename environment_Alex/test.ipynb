{
 "cells": [
  {
   "cell_type": "code",
   "execution_count": 2,
   "metadata": {},
   "outputs": [
    {
     "name": "stdout",
     "output_type": "stream",
     "text": [
      "[1, 2, 3, 4]\n"
     ]
    }
   ],
   "source": [
    "a = [1,2,3]\n",
    "b = a\n",
    "a.append(4)\n",
    "print(b)"
   ]
  },
  {
   "cell_type": "code",
   "execution_count": 4,
   "metadata": {},
   "outputs": [
    {
     "name": "stdout",
     "output_type": "stream",
     "text": [
      "0\n"
     ]
    }
   ],
   "source": [
    "class MyClass:\n",
    "    def __init__(self):\n",
    "        self._metrics = {\n",
    "            'value0': 0,\n",
    "            'value1': 0\n",
    "        }\n",
    "    \n",
    "    @property\n",
    "    def get_value0(self):\n",
    "        return self._metrics['value0']\n",
    "    \n",
    "\n",
    "my_class = MyClass()\n",
    "print(my_class.get_value0)"
   ]
  },
  {
   "cell_type": "code",
   "execution_count": 7,
   "metadata": {},
   "outputs": [
    {
     "data": {
      "text/plain": [
       "[(1, 'a', 10), (2, 'b', 11), (3, 'c', 12), (4, 'd', 13)]"
      ]
     },
     "execution_count": 7,
     "metadata": {},
     "output_type": "execute_result"
    }
   ],
   "source": [
    "a1 = [1,2,3, 4]\n",
    "b1 = [\"a\", \"b\", \"c\", \"d\"]\n",
    "c1 = [10, 11, 12, 13]\n",
    "list(zip(a1, b1, c1))"
   ]
  },
  {
   "cell_type": "code",
   "execution_count": 20,
   "metadata": {},
   "outputs": [
    {
     "data": {
      "text/plain": [
       "array([  3,   5,   9,  11,  11,  11,  18,  19,  22,  25,  30,  32,  34,\n",
       "        34,  35,  38,  39,  41,  42,  42,  43,  44,  45,  46,  51,  52,\n",
       "        53,  54,  54,  56,  57,  60,  60,  62,  63,  64,  66,  68,  70,\n",
       "        74,  78,  83,  84,  86,  88,  90,  93,  95,  98, 101, 102, 103,\n",
       "       107, 113, 115, 116, 117, 119, 121, 122, 123, 127, 128, 129, 132,\n",
       "       133, 134, 136, 136, 136, 139, 141, 142, 144, 148, 149, 151, 154,\n",
       "       155, 156, 158, 160, 161, 164, 164, 167, 169, 172, 173, 173, 176,\n",
       "       177])"
      ]
     },
     "execution_count": 20,
     "metadata": {},
     "output_type": "execute_result"
    }
   ],
   "source": [
    "import numpy as np\n",
    "\n",
    "np.random.seed(0)\n",
    "\n",
    "s = np.cumsum(np.round(np.random.poisson(1.9, 180)))\n",
    "s = s[s < 180]\n",
    "s"
   ]
  },
  {
   "cell_type": "code",
   "execution_count": 21,
   "metadata": {},
   "outputs": [
    {
     "data": {
      "text/plain": [
       "array([    0.,     0.,     0., 27999.,     0.,  4338.,     0.,     0.,\n",
       "           0., 15516.,     0.,  7095.,     0.,     0.,     0.,     0.,\n",
       "           0.,     0., 10745., 12391.,     0.,     0., 22224.,     0.,\n",
       "           0., 10228.,     0.,     0.,     0.,     0., 39849.,     0.,\n",
       "       43897.,     0., 59901., 26871.,     0.,     0., 20754., 20084.,\n",
       "           0., 48561., 12834., 17904., 10710., 70895., 22290.,     0.,\n",
       "           0.,     0.,     0., 17708., 16862., 63362., 23376.,     0.,\n",
       "       35109., 19624.,     0.,     0., 20578.,     0., 33446., 27611.,\n",
       "       17929.,     0., 11130.,     0., 14021.,     0., 17813.,     0.,\n",
       "           0.,     0., 37754.,     0.,     0.,     0., 12078.,     0.,\n",
       "           0.,     0.,     0., 71246., 22616.,     0., 14212.,     0.,\n",
       "       22894.,     0., 25596.,     0.,     0., 23846.,     0., 30975.,\n",
       "           0.,     0.,  5464.,     0.,     0., 23567.,  4234., 13505.,\n",
       "           0.,     0.,     0., 43737.,     0.,     0.,     0.,     0.,\n",
       "           0.,  9043.,     0., 21652., 12797.,  5799.,     0., 17216.,\n",
       "           0., 20717.,  6679., 12168.,     0.,     0.,     0.,  4645.,\n",
       "       21239., 18959.,     0.,     0., 38397.,  6095.,  9561.,     0.,\n",
       "       48780.,     0.,     0., 23442.,     0., 25564.,  9744.,     0.,\n",
       "       45094.,     0.,     0.,     0., 14920.,  7010.,     0., 54839.,\n",
       "           0.,     0., 21214., 22408., 10664.,     0., 30225.,     0.,\n",
       "       26566.,  6463.,     0.,     0., 26271.,     0.,     0., 11087.,\n",
       "           0., 35452.,     0.,     0., 25275., 10486.,     0.,     0.,\n",
       "        7195., 26698.,     0.,     0.])"
      ]
     },
     "execution_count": 21,
     "metadata": {},
     "output_type": "execute_result"
    }
   ],
   "source": [
    "mu0 = np.log(24_400 / np.sqrt(0.75 ** 2 + 1.0))\n",
    "sigma0 = np.sqrt(np.log(0.75 ** 2 + 1.0))\n",
    "arr = np.zeros(180)\n",
    "arr[s] = np.round(np.random.lognormal(mu0, sigma0, len(s)))\n",
    "arr"
   ]
  },
  {
   "cell_type": "code",
   "execution_count": 54,
   "metadata": {},
   "outputs": [
    {
     "data": {
      "text/plain": [
       "array([    0.,     0.,     0., 27999.,     0.,  4338.,     0.,     0.,\n",
       "           0., 15516.,     0.,  7095.,     0.,     0.,     0.,     0.,\n",
       "           0.,     0., 10745., 12391.,     0.,     0., 22224.,     0.,\n",
       "           0., 10228.,     0.,     0.,     0.,     0., 39849.,     0.,\n",
       "       43897.,     0., 59901., 26871.,     0.,     0., 20754., 20084.,\n",
       "           0., 48561., 12834., 17904., 10710., 70895., 22290.,     0.,\n",
       "           0.,     0.,     0., 17708., 16862., 63362., 23376.,     0.,\n",
       "       35109., 19624.,     0.,     0., 20578.,     0., 33446., 27611.,\n",
       "       17929.,     0., 11130.,     0., 14021.,     0., 17813.,     0.,\n",
       "           0.,     0., 37754.,     0.,     0.,     0., 12078.,     0.,\n",
       "           0.,     0.,     0., 71246., 22616.,     0., 14212.,     0.,\n",
       "       22894.,     0., 25596.,     0.,     0., 23846.,     0., 30975.,\n",
       "           0.,     0.,  5464.,     0.,     0., 23567.,  4234., 13505.,\n",
       "           0.,     0.,     0., 43737.,     0.,     0.,     0.,     0.,\n",
       "           0.,  9043.,     0., 21652., 12797.,  5799.,     0., 17216.,\n",
       "           0., 20717.,  6679., 12168.,     0.,     0.,     0.,  4645.,\n",
       "       21239., 18959.,     0.,     0., 38397.,  6095.,  9561.,     0.,\n",
       "       48780.,     0.,     0., 23442.,     0., 25564.,  9744.,     0.,\n",
       "       45094.,     0.,     0.,     0., 14920.,  7010.,     0., 54839.,\n",
       "           0.,     0., 21214., 22408., 10664.,     0., 30225.,     0.,\n",
       "       26566.,  6463.,     0.,     0., 26271.,     0.,     0., 11087.,\n",
       "           0., 35452.,     0.,     0., 25275., 10486.,     0.,     0.,\n",
       "        7195., 26698.,     0.,     0.])"
      ]
     },
     "execution_count": 54,
     "metadata": {},
     "output_type": "execute_result"
    }
   ],
   "source": [
    "np.random.seed(0) \n",
    "\n",
    "def round_to(x, base):\n",
    "    \"\"\"\n",
    "    rounds x to the next base\n",
    "    \"\"\"\n",
    "    assert base > 0, \"base must be greater than 0\"\n",
    "\n",
    "    return base * np.round(x/base)\n",
    "\n",
    "\n",
    "\n",
    "def poisson_int(mu, rbase, size=1) -> int:\n",
    "    \"\"\"\n",
    "    returns the poisson value for mu\n",
    "\n",
    "    rounds it to an integer\n",
    "    \"\"\"\n",
    "    x = round_to(np.random.poisson(mu, size = size), rbase)\n",
    "\n",
    "    return np.round(x)\n",
    "\n",
    "\n",
    "def lognorm_int(mu, varcoef, rbase=1, size=1) -> int:\n",
    "    \"\"\"\n",
    "    returns the lognormal value \n",
    "    scales the target expected value mu and varcoef = sigma/mu to the \n",
    "        embedded normal distribution with mu0 and sigma0 and returns\n",
    "        the corresponding output\n",
    "    beauty of lognorm: is always > 0\n",
    "\n",
    "    rounds it to an integer\n",
    "    \"\"\"\n",
    "\n",
    "    mu0 = np.log(mu / np.sqrt(varcoef ** 2 + 1.0))\n",
    "    sigma0 = np.sqrt(np.log(varcoef ** 2 + 1.0))\n",
    "    \n",
    "    x = round_to(np.random.lognormal(mu0, sigma0, size = size), rbase)\n",
    "\n",
    "    #return random.lognormvariate(mu0, sigma0)\n",
    "    return np.round(x)\n",
    "\n",
    "\n",
    "def gen_demands(d_mu, d_varcoef, d_t_mu, fcast_period):\n",
    "    # generate a list of poisson values as with mu = d_t_mu and round it to int\n",
    "    poisson_idx = np.round(np.random.poisson(d_t_mu, fcast_period))\n",
    "    # calculate the cumulative sum to have it as indices and then filter out the ones with are grater than the forecast period\n",
    "    poisson_idx = np.cumsum(poisson_idx)\n",
    "    poisson_idx = poisson_idx[poisson_idx < fcast_period]\n",
    "\n",
    "    # generate an array of zeros of demands\n",
    "    demands = np.zeros(fcast_period)\n",
    "    # fill the demands with the poisson values\n",
    "    demands[poisson_idx] = lognorm_int(d_mu, d_varcoef, size = len(poisson_idx))\n",
    "\n",
    "    return demands\n",
    "\n",
    "\n",
    "gen_demands(24_400, 0.75, 1.9, 180)"
   ]
  },
  {
   "cell_type": "code",
   "execution_count": 1,
   "metadata": {},
   "outputs": [
    {
     "ename": "AttributeError",
     "evalue": "'dict' object has no attribute 'd_mu'",
     "output_type": "error",
     "traceback": [
      "\u001b[0;31m---------------------------------------------------------------------------\u001b[0m",
      "\u001b[0;31mAttributeError\u001b[0m                            Traceback (most recent call last)",
      "Cell \u001b[0;32mIn[1], line 17\u001b[0m\n\u001b[1;32m      2\u001b[0m DIST_DAYS_1 \u001b[38;5;241m=\u001b[39m \u001b[38;5;241m1.9\u001b[39m\n\u001b[1;32m      3\u001b[0m p1 \u001b[38;5;241m=\u001b[39m {\n\u001b[1;32m      4\u001b[0m     \u001b[38;5;124m\"\u001b[39m\u001b[38;5;124md_mu\u001b[39m\u001b[38;5;124m\"\u001b[39m              : QUANT_MU_1,                                           \u001b[38;5;66;03m# number of pieces per day produced\u001b[39;00m\n\u001b[1;32m      5\u001b[0m     \u001b[38;5;124m\"\u001b[39m\u001b[38;5;124md_varcoef\u001b[39m\u001b[38;5;124m\"\u001b[39m         : \u001b[38;5;241m0.75\u001b[39m,                                                 \u001b[38;5;66;03m# variation coefficient for demand determination\u001b[39;00m\n\u001b[0;32m   (...)\u001b[0m\n\u001b[1;32m     14\u001b[0m     \u001b[38;5;124m\"\u001b[39m\u001b[38;5;124meoq_mode\u001b[39m\u001b[38;5;124m\"\u001b[39m          : \u001b[38;5;124m\"\u001b[39m\u001b[38;5;124mFOW\u001b[39m\u001b[38;5;124m\"\u001b[39m                                                 \u001b[38;5;66;03m# mode for EOQ calculation (check below the definitions)\u001b[39;00m\n\u001b[1;32m     15\u001b[0m }\n\u001b[0;32m---> 17\u001b[0m \u001b[43mp1\u001b[49m\u001b[38;5;241;43m.\u001b[39;49m\u001b[43md_mu\u001b[49m\n",
      "\u001b[0;31mAttributeError\u001b[0m: 'dict' object has no attribute 'd_mu'"
     ]
    }
   ],
   "source": [
    "QUANT_MU_1 = 24_400\n",
    "DIST_DAYS_1 = 1.9\n",
    "p1 = {\n",
    "    \"d_mu\"              : QUANT_MU_1,                                           # number of pieces per day produced\n",
    "    \"d_varcoef\"         : 0.75,                                                 # variation coefficient for demand determination\n",
    "    \"d_t_mu\"            : DIST_DAYS_1,                                          # number of days on average between 2 orders\n",
    "    \"d_fc_noise\"        : 1.0,                                                  # variation coefficient for forecast determination 0 to 1 as percentage on top of it\n",
    "    \"safety_stock\"      : 1.0 * (QUANT_MU_1 / DIST_DAYS_1) * 7,     # safety stock for one week\n",
    "    \"E_p\"               : 0.03,                                                 # cost per piece for EOQ calculation\n",
    "    \"B_k\"               : 200,                                                  # setup cost per batch for EOQ calculation  \n",
    "    \"irate\"             : 0.1,                                                  # interest rate for inventory for EOQ calculation\n",
    "    \"t_e\"               : 0.22 / (60*60*24),                                   # time to produce one piece in fraction of a day      \n",
    "    \"t_r\"               : 2.0 / 24,                                  # time to setup a batch in fraction of a day            \n",
    "    \"eoq_mode\"          : \"FOW\"                                                 # mode for EOQ calculation (check below the definitions)\n",
    "}\n",
    "\n",
    "p1.d_mu"
   ]
  },
  {
   "cell_type": "code",
   "execution_count": 3,
   "metadata": {},
   "outputs": [
    {
     "data": {
      "text/plain": [
       "3"
      ]
     },
     "execution_count": 3,
     "metadata": {},
     "output_type": "execute_result"
    }
   ],
   "source": [
    "a = 1\n",
    "a += 3-1\n",
    "a"
   ]
  },
  {
   "cell_type": "code",
   "execution_count": 1,
   "metadata": {},
   "outputs": [
    {
     "data": {
      "text/plain": [
       "5.5"
      ]
     },
     "execution_count": 1,
     "metadata": {},
     "output_type": "execute_result"
    }
   ],
   "source": [
    "listt = [1,2,3,4,5,6,7,8,9,10]\n",
    "\n",
    "listt[:0]\n",
    "\n",
    "import numpy as np\n",
    "\n",
    "np.mean(listt)"
   ]
  },
  {
   "cell_type": "code",
   "execution_count": 2,
   "metadata": {},
   "outputs": [
    {
     "data": {
      "text/plain": [
       "2"
      ]
     },
     "execution_count": 2,
     "metadata": {},
     "output_type": "execute_result"
    }
   ],
   "source": [
    "a = 2\n",
    "b = 5\n",
    "\n",
    "dictt = {\n",
    "    \"a\": a,\n",
    "    \"b\": b\n",
    "}\n",
    "\n",
    "a = 10\n",
    "dictt[\"a\"]"
   ]
  },
  {
   "cell_type": "code",
   "execution_count": null,
   "metadata": {},
   "outputs": [],
   "source": []
  }
 ],
 "metadata": {
  "kernelspec": {
   "display_name": "study",
   "language": "python",
   "name": "python3"
  },
  "language_info": {
   "codemirror_mode": {
    "name": "ipython",
    "version": 3
   },
   "file_extension": ".py",
   "mimetype": "text/x-python",
   "name": "python",
   "nbconvert_exporter": "python",
   "pygments_lexer": "ipython3",
   "version": "3.11.7"
  }
 },
 "nbformat": 4,
 "nbformat_minor": 2
}
